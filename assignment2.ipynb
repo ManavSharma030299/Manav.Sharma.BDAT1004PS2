{
 "cells": [
  {
   "cell_type": "markdown",
   "id": "77fc2501",
   "metadata": {},
   "source": [
    "# Question 1"
   ]
  },
  {
   "cell_type": "markdown",
   "id": "0c99550d",
   "metadata": {},
   "source": [
    "Consider the following Python module:\n",
    "a = 0 \n",
    "def b():\n",
    "global a\n",
    "a = c(a)\n",
    "def c(a):\n",
    "return a + 2\n",
    "After importing the module into the interpreter, you execute:\n",
    ">>> b()\n",
    ">>> b()\n",
    ">>> b()\n",
    ">>> a\n",
    "?\n",
    "What value is displayed when the last expression (a) is evaluated?\n",
    "Explain your Banswer by indicating what happens in every executed statement."
   ]
  },
  {
   "cell_type": "code",
   "execution_count": 1,
   "id": "95a8c430",
   "metadata": {},
   "outputs": [
    {
     "name": "stdout",
     "output_type": "stream",
     "text": [
      "6\n"
     ]
    }
   ],
   "source": [
    "a = 0\n",
    "def b():\n",
    "    global a\n",
    "    a = c(a)\n",
    "def c(a):\n",
    "    return a + 2\n",
    "b()\n",
    "b()\n",
    "b()\n",
    "print(a)"
   ]
  },
  {
   "cell_type": "markdown",
   "id": "e95967f3",
   "metadata": {},
   "source": [
    "For the first iteration func b() calls fucn c(a)\n",
    "as in the first iteration global vlaue of a is 0 fucntion c perform\n",
    "c(a)= 0+2\n",
    "and makes the a= 2 and as it is global it update a variable outside of function\n",
    "\n",
    "for seconnd iteration of b() we have a=2\n",
    "so c(a)=2+2\n",
    "which makes a=4\n",
    "\n",
    "for third iteraetion of b() we have a=4\n",
    "so c(a)=4+2\n",
    "so a=6"
   ]
  },
  {
   "cell_type": "markdown",
   "id": "274b87f5",
   "metadata": {},
   "source": [
    "# Question 2 "
   ]
  },
  {
   "cell_type": "markdown",
   "id": "5297ce27",
   "metadata": {},
   "source": [
    "Function fileLength(), given to you, takes the name of a file as input and returns \n",
    "the length of the file:\n",
    ">>> fileLength('midterm.py') \n",
    "284\n",
    ">>> fileLength('idterm.py') \n",
    "Traceback (most recent call last):\n",
    "File \"<pyshell#34>\", line 1, in <module> \n",
    "fileLength('idterm.py')\n",
    "File \"/Users/me/midterm.py\", line 3, in fileLength \n",
    "infile = open(filename)\n",
    "FileNotFoundError: [Errno 2] No such file or directory: \n",
    "'idterm.py'\n",
    "As shown above, if the file cannot be found by the interpreter or if it cannot be read \n",
    "as a text file, an exception will be raised. Modify function fileLength() so that a \n",
    "friendly message is printed instead:\n",
    ">>> fileLength('midterm.py') \n",
    "358\n",
    ">>> fileLength('idterm.py') \n",
    "File idterm.py not found."
   ]
  },
  {
   "cell_type": "code",
   "execution_count": 8,
   "id": "8c673848",
   "metadata": {},
   "outputs": [
    {
     "name": "stdout",
     "output_type": "stream",
     "text": [
      "1035\n",
      "File idterm.py not found.\n"
     ]
    }
   ],
   "source": [
    "def file_length(file_name):\n",
    "    try:\n",
    "        file = open(file_name)\n",
    "        contents = file.read()\n",
    "        file.close()\n",
    "        print(len(contents))\n",
    "    except FileNotFoundError:\n",
    "        print(f\"File {file_name} not found.\")\n",
    "file_length('example_module.py')\n",
    "file_length('idterm.py')"
   ]
  },
  {
   "cell_type": "markdown",
   "id": "fc768c5c",
   "metadata": {},
   "source": [
    "# Question 3"
   ]
  },
  {
   "cell_type": "markdown",
   "id": "65c6a410",
   "metadata": {},
   "source": [
    "Write a class named Marsupial that can be used as shown below:\n",
    ">>> m = Marsupial()\n",
    ">>> m.put_in_pouch('doll')\n",
    ">>> m.put_in_pouch('firetruck')\n",
    ">>> m.put_in_pouch('kitten')\n",
    ">>> m.pouch_contents() \n",
    "['doll', 'firetruck', 'kitten']\n",
    "\n",
    "Now write a class named Kangaroo as a subclass of Marsupial that inherits all the \n",
    "attributes of Marsupial and also:\n",
    "a. extends the Marsupial __init__ constructor to take, as input, the\n",
    "coordinates x and y of the Kangaroo object,\n",
    "b. supports method jump that takes number values dx and dy as input and \n",
    "movesthe kangaroo by dx units along the x-axis and by dy units along the y\u0002axis, and\n",
    "c. overloads the __str__ operator so it behaves as shown below.\n"
   ]
  },
  {
   "cell_type": "code",
   "execution_count": 9,
   "id": "7c5af351",
   "metadata": {},
   "outputs": [
    {
     "name": "stdout",
     "output_type": "stream",
     "text": [
      "['doll', 'firetruck', 'kitten']\n",
      "I am a Kangaroo located at coordinates (0,0)\n",
      "['doll', 'firetruck', 'kitten']\n",
      "I am a Kangaroo located at coordinates (2,3)\n"
     ]
    }
   ],
   "source": [
    "class Marsupial:\n",
    "    def __init__(s):\n",
    "        s.p = []\n",
    "    def put(s, item):\n",
    "        s.p.append(item)\n",
    "    def cont(s):\n",
    "        return s.p\n",
    "class Kangaroo(Marsupial):\n",
    "    def __init__(s, x, y):\n",
    "        super().__init__()\n",
    "        s.x = x\n",
    "        s.y = y\n",
    "    def jump(s, dx, dy):\n",
    "        s.x += dx\n",
    "        s.y += dy\n",
    "    def __str__(s):\n",
    "        return f\"I am a Kangaroo located at coordinates ({s.x},{s.y})\"\n",
    "\n",
    "m = Marsupial()\n",
    "m.put('doll')\n",
    "m.put('firetruck')\n",
    "m.put('kitten')\n",
    "print(m.cont())\n",
    "k = Kangaroo(0,0)\n",
    "print(k)\n",
    "k.put('doll')\n",
    "k.put('firetruck')\n",
    "k.put('kitten')\n",
    "print(k.cont())\n",
    "k.jump(2,3)\n",
    "print(k)\n"
   ]
  },
  {
   "cell_type": "markdown",
   "id": "d0bb81b3",
   "metadata": {},
   "source": [
    "# Question 4"
   ]
  },
  {
   "cell_type": "markdown",
   "id": "d9e0ac53",
   "metadata": {},
   "source": [
    "Write function collatz() that takes a positive integer x as input and prints the \n",
    "Collatz sequence starting at x. A Collatz sequence is obtained by repeatedly applying \n",
    "this rule to the previous number x in the sequence:\n",
    "x = {\n",
    "𝑥/2 𝑖𝑓 𝑥 𝑖𝑠 𝑒𝑣𝑒𝑛3𝑥\n",
    "+1 𝑖𝑓 𝑥 𝑖𝑠 𝑜𝑑𝑑\n",
    "Your function should stop when the sequence gets to number 1. Your \n",
    "implementation must be recursive, without any loops"
   ]
  },
  {
   "cell_type": "code",
   "execution_count": 11,
   "id": "028f8e27",
   "metadata": {},
   "outputs": [
    {
     "name": "stdout",
     "output_type": "stream",
     "text": [
      "1\n",
      "10\n",
      "5\n",
      "16\n",
      "8\n",
      "4\n",
      "2\n",
      "1\n"
     ]
    }
   ],
   "source": [
    "def collatz(x):\n",
    "    print(x)\n",
    "    if x == 1:\n",
    "            return\n",
    "    if x % 2 == 0:\n",
    "        collatz(x // 2)\n",
    "    else:\n",
    "        collatz(3*x + 1)\n",
    "collatz(1)\n",
    "collatz(10)\n"
   ]
  },
  {
   "cell_type": "markdown",
   "id": "cc15db3f",
   "metadata": {},
   "source": [
    "# Question 5"
   ]
  },
  {
   "cell_type": "markdown",
   "id": "f25c04a8",
   "metadata": {},
   "source": [
    "Write a recursive method binary() that takes a non-negative \n",
    "integer n and prints the binary representation of integer n.\n"
   ]
  },
  {
   "cell_type": "code",
   "execution_count": 26,
   "id": "5d5d253b",
   "metadata": {},
   "outputs": [],
   "source": [
    "def binary(n):\n",
    "    if n > 1:\n",
    "        binary(n // 2)\n",
    "    print(n % 2, end='')\n"
   ]
  },
  {
   "cell_type": "code",
   "execution_count": 27,
   "id": "979540c7",
   "metadata": {},
   "outputs": [
    {
     "name": "stdout",
     "output_type": "stream",
     "text": [
      "0\n",
      "1\n",
      "11\n",
      "1001"
     ]
    }
   ],
   "source": [
    "\n",
    "binary(0)\n",
    "print()\n",
    "binary(1)\n",
    "print()\n",
    "binary(3)\n",
    "print()\n",
    "binary(9)"
   ]
  },
  {
   "cell_type": "markdown",
   "id": "b9d1b4d3",
   "metadata": {},
   "source": [
    "# Question 6"
   ]
  },
  {
   "cell_type": "markdown",
   "id": "864be150",
   "metadata": {},
   "source": [
    "Implement a class named HeadingParser that can be used to parse an HTML \n",
    "document, and retrieve and print all the headings in the document. You should \n",
    "implement your class as a subclass of HTMLParser, defined in Standard Library \n",
    "module html.parser. When fed a string containing HTML code, your class should \n",
    "print the headings, one per line and in the order in which they appear in the \n",
    "document.Each heading should be indented asfollows: an h1 heading should have\n",
    "indentation 0, and h2 heading should have indentation 1, etc. Test your \n",
    "implementation using w3c.html.\n",
    ">>> infile = open('w3c.html')\n",
    ">>> content = infile.read()\n",
    ">>> infile.close()\n",
    ">>> hp = HeadingParser()\n",
    ">>> hp.feed(content) \n",
    "W3C Mission \n",
    "Principles\n"
   ]
  },
  {
   "cell_type": "code",
   "execution_count": 28,
   "id": "3ea33ac4",
   "metadata": {},
   "outputs": [
    {
     "name": "stdout",
     "output_type": "stream",
     "text": [
      "Changed\n",
      "W3C Mission\n",
      " Principles\n"
     ]
    }
   ],
   "source": [
    "from html.parser import HTMLParser\n",
    "\n",
    "class HeadingParser(HTMLParser):\n",
    "    def __init__(self):\n",
    "        super().__init__()\n",
    "        self.headings = []\n",
    "        self.indentation = 0\n",
    "\n",
    "    def handle_starttag(self, tag, attrs):\n",
    "        if tag.startswith(\"h\") and tag[1].isdigit():\n",
    "            self.indentation = int(tag[1]) - 1\n",
    "\n",
    "    def handle_data(self, data):\n",
    "        if data.strip():\n",
    "            heading = \" \" * self.indentation + data.strip()\n",
    "            self.headings.append(heading)\n",
    "\n",
    "    def print_headings(self):\n",
    "        for heading in self.headings:\n",
    "            print(heading)\n",
    "\n",
    "parser = HeadingParser()\n",
    "\n",
    "with open(\"w3c.html\") as f:\n",
    "    for line in f:\n",
    "        parser.feed(line)\n",
    "\n",
    "parser.print_headings()"
   ]
  },
  {
   "cell_type": "markdown",
   "id": "66409553",
   "metadata": {},
   "source": [
    "# Question 7"
   ]
  },
  {
   "cell_type": "markdown",
   "id": "16ec88b8",
   "metadata": {},
   "source": [
    "Implement recursive function webdir() that takes as input: a URL (as a string) and \n",
    "non-negative integers depth and indent. Your function should visit every web \n",
    "page reachable from the starting URL web page in depth clicks or less, and print \n",
    "each web page's URL. As shown below, indentation, specified by indent, should \n",
    "be used to indicate the depth of a URL."
   ]
  },
  {
   "cell_type": "code",
   "execution_count": 35,
   "id": "4056a04a",
   "metadata": {
    "scrolled": false
   },
   "outputs": [
    {
     "name": "stdout",
     "output_type": "stream",
     "text": [
      "http://reed.cs.depaul.edu/lperkovic/csc242/test1.html%27\n",
      "https://www.w3schools.com\n",
      "    https://www.w3schools.com/videos/index.php\n",
      "        https://www.w3schools.com/spaces\n",
      "        https://www.w3schools.com/about/about_privacy.asp\n",
      "            https://www.w3schools.com/spaces/\n",
      "        https://www.w3schools.com/about/about_copyright.asp\n",
      "    https://www.w3schools.com/spaces/index.html\n"
     ]
    }
   ],
   "source": [
    "from urllib import request\n",
    "from urllib.parse import urlparse\n",
    "from urllib.error import HTTPError\n",
    "from html.parser import HTMLParser\n",
    "\n",
    "def webdir(url, depth, indent):\n",
    "    print(' '*indent + url)\n",
    "    if depth == 0:\n",
    "        return\n",
    "    parsed_url = urlparse(url)\n",
    "    domain = parsed_url.netloc\n",
    "    path = parsed_url.path\n",
    "    visited_urls.add(url)\n",
    "    try:\n",
    "        with request.urlopen(url) as response:\n",
    "            content = response.read().decode()\n",
    "    except HTTPError:\n",
    "        return\n",
    "    parser = LinkParser()\n",
    "    parser.feed(content)\n",
    "    for link in parser.links:\n",
    "        if link.startswith('http') and link not in visited_urls:\n",
    "            parsed_link = urlparse(link)\n",
    "            if parsed_link.netloc == domain and parsed_link.path != path:\n",
    "                webdir(link, depth-1, indent+4)\n",
    "class LinkParser(HTMLParser):\n",
    "    def __init__(self):\n",
    "        super().__init__()\n",
    "        self.links = []\n",
    "    \n",
    "    def handle_starttag(self, tag, attrs):\n",
    "        if tag == 'a':\n",
    "            for attr in attrs:\n",
    "                if attr[0] == 'href':\n",
    "                    self.links.append(attr[1])\n",
    "visited_urls = set()\n",
    "webdir('http://reed.cs.depaul.edu/lperkovic/csc242/test1.html%27', 2, 0)\n",
    "webdir('https://www.w3schools.com',4, 0)\n"
   ]
  },
  {
   "cell_type": "markdown",
   "id": "43948528",
   "metadata": {},
   "source": [
    "# Question 8"
   ]
  },
  {
   "cell_type": "markdown",
   "id": "5c70d2ce",
   "metadata": {},
   "source": [
    "Question 8\n",
    "Write SQL queries on the below database table that return:\n",
    "a) All the temperature data.\n",
    "b) All the cities, but without repetition.\n",
    "c) All the records for India.\n",
    "d) All the Fall records.\n",
    "e) The city, country, and season for which the average rainfall is between 200\n",
    "and 400 millimeters.\n",
    "f) The city and country for which the average Fall temperature is above 20\n",
    "degrees, in increasing temperature order.\n",
    "g) The total annual rainfall for Cairo.\n",
    "h) The total rainfall for each season"
   ]
  },
  {
   "cell_type": "code",
   "execution_count": 37,
   "id": "26383f0f",
   "metadata": {},
   "outputs": [],
   "source": [
    "import sqlite3\n",
    "import pandas as pd\n",
    "\n",
    "conn = sqlite3.connect('city_weathertest.db')\n",
    "\n",
    "conn.execute('''CREATE TABLE weather\n",
    "             (City TEXT,\n",
    "              Country TEXT,\n",
    "              Season TEXT,\n",
    "              Temperature REAL,\n",
    "              Rainfall REAL);''')\n",
    "\n",
    "conn.execute(\"INSERT INTO weather VALUES ('Mumbai', 'India', 'Winter', 24.8, 5.9)\")\n",
    "conn.execute(\"INSERT INTO weather VALUES ('Mumbai', 'India', 'Spring', 28.4, 16.2)\")\n",
    "conn.execute(\"INSERT INTO weather VALUES ('Mumbai', 'India', 'Summer', 27.9, 1549.4)\")\n",
    "conn.execute(\"INSERT INTO weather VALUES ('Mumbai', 'India', 'Fall', 27.6, 346.0)\")\n",
    "conn.execute(\"INSERT INTO weather VALUES ('London', 'United Kingdom', 'Winter', 4.2, 207.7)\")\n",
    "conn.execute(\"INSERT INTO weather VALUES ('London', 'United Kingdom', 'Spring', 8.3, 169.6)\")\n",
    "conn.execute(\"INSERT INTO weather VALUES ('London', 'United Kingdom', 'Summer', 15.7, 157.0)\")\n",
    "conn.execute(\"INSERT INTO weather VALUES ('London', 'United Kingdom', 'Fall', 10.4, 218.5)\")\n",
    "conn.execute(\"INSERT INTO weather VALUES ('Cairo', 'Egypt', 'Winter', 13.6, 16.5)\")\n",
    "conn.execute(\"INSERT INTO weather VALUES ('Cairo', 'Egypt', 'Spring', 20.7, 6.5)\")\n",
    "conn.execute(\"INSERT INTO weather VALUES ('Cairo', 'Egypt', 'Summer', 27.7, 0.1)\")\n",
    "conn.execute(\"INSERT INTO weather VALUES ('Cairo', 'Egypt', 'Fall', 22.2, 4.5)\")\n",
    "conn.commit()\n",
    "conn.close()"
   ]
  },
  {
   "cell_type": "code",
   "execution_count": 52,
   "id": "fb71bbee",
   "metadata": {},
   "outputs": [
    {
     "name": "stdout",
     "output_type": "stream",
     "text": [
      "All temperature data:\n",
      "     Temperature\n",
      "0          24.8\n",
      "1          28.4\n",
      "2          27.9\n",
      "3          27.6\n",
      "4           4.2\n",
      "5           8.3\n",
      "6          15.7\n",
      "7          10.4\n",
      "8          13.6\n",
      "9          20.7\n",
      "10         27.7\n",
      "11         22.2\n",
      "\n",
      "All cities, without repetition:\n",
      "      City\n",
      "0  Mumbai\n",
      "1  London\n",
      "2   Cairo\n",
      "\n",
      "All records for India:\n",
      "      City Country  Season  Temperature  Rainfall\n",
      "0  Mumbai   India  Winter         24.8       5.9\n",
      "1  Mumbai   India  Spring         28.4      16.2\n",
      "2  Mumbai   India  Summer         27.9    1549.4\n",
      "3  Mumbai   India    Fall         27.6     346.0\n",
      "\n",
      "All Fall records:\n",
      "      City         Country Season  Temperature  Rainfall\n",
      "0  Mumbai           India   Fall         27.6     346.0\n",
      "1  London  United Kingdom   Fall         10.4     218.5\n",
      "2   Cairo           Egypt   Fall         22.2       4.5\n",
      "\n",
      "City, Country, and Season with average rainfall between 200 and 400 millimeters:\n",
      "      City         Country  Season\n",
      "0  Mumbai           India    Fall\n",
      "1  London  United Kingdom  Winter\n",
      "2  London  United Kingdom    Fall\n",
      "\n",
      "City and Country with average Fall temperature above 20 degrees, in increasing temperature order:\n",
      "      City Country\n",
      "0   Cairo   Egypt\n",
      "1  Mumbai   India\n",
      "\n",
      "Total annual rainfall for Cairo:\n",
      "    SUM(Rainfall)\n",
      "0           27.6\n",
      "\n",
      "Total rainfall for each season:    Season  SUM(Rainfall)\n",
      "0    Fall          569.0\n",
      "1  Spring          192.3\n",
      "2  Summer         1706.5\n",
      "3  Winter          230.1\n"
     ]
    }
   ],
   "source": [
    "conn = sqlite3.connect('city_weathertest.db')\n",
    "\n",
    "df_a = pd.read_sql_query(\"SELECT Temperature FROM weather\", conn)\n",
    "print(\"All temperature data:\\n\", df_a)\n",
    "\n",
    "df_b = pd.read_sql_query(\"SELECT DISTINCT City FROM weather\", conn)\n",
    "print(\"\\nAll cities, without repetition:\\n\", df_b)\n",
    "\n",
    "\n",
    "df_c = pd.read_sql_query(\"SELECT * FROM weather WHERE Country='India'\", conn)\n",
    "print(\"\\nAll records for India:\\n\", df_c)\n",
    "\n",
    "df_d = pd.read_sql_query(\"SELECT * FROM weather WHERE Season='Fall'\", conn)\n",
    "print(\"\\nAll Fall records:\\n\", df_d)\n",
    "\n",
    "df_e = pd.read_sql_query(\"SELECT City, Country, Season FROM weather WHERE Rainfall BETWEEN 200 AND 400\", conn)\n",
    "print(\"\\nCity, Country, and Season with average rainfall between 200 and 400 millimeters:\\n\", df_e)\n",
    "\n",
    "df_f = pd.read_sql_query(\"SELECT City, Country FROM weather WHERE Season='Fall' AND Temperature > 20 ORDER BY Temperature ASC\", conn)\n",
    "print(\"\\nCity and Country with average Fall temperature above 20 degrees, in increasing temperature order:\\n\",df_f)\n",
    "\n",
    "df_g = pd.read_sql_query(\"SELECT SUM(Rainfall) FROM weather WHERE City='Cairo'\", conn)\n",
    "print(\"\\nTotal annual rainfall for Cairo:\\n\",df_g)\n",
    "\n",
    "df_h = pd.read_sql_query(\"SELECT Season, SUM(Rainfall) FROM weather GROUP BY Season\", conn)\n",
    "print(\"\\nTotal rainfall for each season:\",df_h)\n",
    "\n"
   ]
  },
  {
   "cell_type": "markdown",
   "id": "bcb3656b",
   "metadata": {},
   "source": [
    "# Question 9"
   ]
  },
  {
   "cell_type": "markdown",
   "id": "51cf263a",
   "metadata": {},
   "source": [
    "Suppose list words is defined as follows:\n",
    "words = ['The', 'quick', 'brown', 'fox', 'jumps', 'over',\n",
    "'the', 'lazy', 'dog']\n",
    "\n",
    "\n",
    "Write list comprehension expressions that use list words and generate the following\n",
    "lists:\n",
    "\n",
    "\n",
    "a) ['THE', 'QUICK', 'BROWN', 'FOX', 'JUMPS', 'OVER', 'THE',\n",
    "'LAZY', 'DOG']\n",
    "\n",
    "b) ['the', 'quick', 'brown', 'fox', 'jumps', 'over', 'the',\n",
    "'lazy', 'dog']\n",
    "\n",
    "c) [3, 5, 5, 3, 5, 4, 3, 4, 3] (the list of lengths of words in list\n",
    "words).\n",
    "\n",
    "d) [['THE', 'the', 3], ['QUICK', 'quick', 5], ['BROWN',\n",
    "'brown', 5], ['FOX', 'fox', 3], ['JUMPS', 'jumps', 5],\n",
    "['OVER', 'over', 4], ['THE', 'the', 3], ['LAZY', 'lazy',4], ['DOG', 'dog', 3]] (the list containing a list for every word of list words, where each list contains the word in uppercase and lowercase and the\n",
    "length of the word.)\n",
    "\n",
    "e) ['The', 'quick', 'brown', 'fox', 'jumps', 'over', 'the',\n",
    "'lazy', 'dog'] (the list of words in list words containing 4 or more\n",
    "characters.)"
   ]
  },
  {
   "cell_type": "code",
   "execution_count": 53,
   "id": "b6684e19",
   "metadata": {},
   "outputs": [
    {
     "name": "stdout",
     "output_type": "stream",
     "text": [
      "['THE', 'QUICK', 'BROWN', 'FOX', 'JUMPS', 'OVER', 'THE', 'LAZY', 'DOG']\n",
      "['the', 'quick', 'brown', 'fox', 'jumps', 'over', 'the', 'lazy', 'dog']\n",
      "[3, 5, 5, 3, 5, 4, 3, 4, 3]\n",
      "[['THE', 'the', 3], ['QUICK', 'quick', 5], ['BROWN', 'brown', 5], ['FOX', 'fox', 3], ['JUMPS', 'jumps', 5], ['OVER', 'over', 4], ['THE', 'the', 3], ['LAZY', 'lazy', 4], ['DOG', 'dog', 3]]\n",
      "['quick', 'brown', 'jumps', 'over', 'lazy']\n"
     ]
    }
   ],
   "source": [
    "words = ['The', 'quick', 'brown', 'fox', 'jumps', 'over', 'the', 'lazy', 'dog']\n",
    "uppercase_words = [word.upper() for word in words]\n",
    "print(uppercase_words)\n",
    "lowercase_words = [word.lower() for word in words]\n",
    "print(lowercase_words)\n",
    "word_lengths = [len(word) for word in words]\n",
    "print(word_lengths)\n",
    "word_info = [[word.upper(), word.lower(), len(word)] for word in words]\n",
    "print(word_info)\n",
    "long_words = [word for word in words if len(word) >= 4]\n",
    "print(long_words)"
   ]
  },
  {
   "cell_type": "code",
   "execution_count": null,
   "id": "4551d34b",
   "metadata": {},
   "outputs": [],
   "source": []
  }
 ],
 "metadata": {
  "kernelspec": {
   "display_name": "Python 3 (ipykernel)",
   "language": "python",
   "name": "python3"
  },
  "language_info": {
   "codemirror_mode": {
    "name": "ipython",
    "version": 3
   },
   "file_extension": ".py",
   "mimetype": "text/x-python",
   "name": "python",
   "nbconvert_exporter": "python",
   "pygments_lexer": "ipython3",
   "version": "3.9.13"
  }
 },
 "nbformat": 4,
 "nbformat_minor": 5
}
